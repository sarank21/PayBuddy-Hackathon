{
  "nbformat": 4,
  "nbformat_minor": 0,
  "metadata": {
    "colab": {
      "name": "final_result_xgb.ipynb",
      "provenance": []
    },
    "kernelspec": {
      "name": "python3",
      "display_name": "Python 3"
    },
    "language_info": {
      "name": "python"
    }
  },
  "cells": [
    {
      "cell_type": "code",
      "execution_count": 3,
      "metadata": {
        "colab": {
          "base_uri": "https://localhost:8080/"
        },
        "id": "MtVE0gJfE1zS",
        "outputId": "369b16b9-55ca-4fb3-dda9-73c50df6760e"
      },
      "outputs": [
        {
          "output_type": "stream",
          "name": "stdout",
          "text": [
            "Mounted at /content/drive\n"
          ]
        }
      ],
      "source": [
        "from google.colab import drive\n",
        "drive.mount('/content/drive')"
      ]
    },
    {
      "cell_type": "code",
      "source": [
        "import pandas as pd\n",
        "import numpy as np\n",
        "\n",
        "import matplotlib.pyplot as plt\n",
        "\n",
        "from sklearn.feature_selection import SelectKBest\n",
        "from sklearn.feature_selection import chi2\n",
        "from sklearn.model_selection import train_test_split\n",
        "from sklearn.ensemble import RandomForestClassifier\n",
        "from sklearn.svm import LinearSVC\n",
        "from sklearn.feature_selection import SelectFromModel\n",
        "from sklearn.pipeline import Pipeline\n",
        "import xgboost as xgb\n",
        "\n",
        "from sklearn.metrics import classification_report, accuracy_score \n",
        "from sklearn.metrics import precision_score, recall_score\n",
        "from sklearn.metrics import f1_score, matthews_corrcoef\n",
        "from sklearn.metrics import confusion_matrix"
      ],
      "metadata": {
        "id": "MH-1VZfeHkNC"
      },
      "execution_count": 1,
      "outputs": []
    },
    {
      "cell_type": "code",
      "source": [
        "#importing total X_train(features)\n",
        "X = pd.read_csv('/content/drive/MyDrive/Colab Notebooks/X.csv')"
      ],
      "metadata": {
        "id": "3jgBvEnNImB3"
      },
      "execution_count": 4,
      "outputs": []
    },
    {
      "cell_type": "code",
      "source": [
        "#importing total Y_train(target)\n",
        "y = pd.read_csv('/content/drive/MyDrive/Colab Notebooks/y.csv')"
      ],
      "metadata": {
        "id": "gxHB7HRqI4xN"
      },
      "execution_count": 5,
      "outputs": []
    },
    {
      "cell_type": "code",
      "source": [
        "\n",
        "#model building and fitting\n",
        "xg_clf = xgb.XGBClassifier(objective ='binary:logistic')\n",
        "xg_clf.fit(X,y)"
      ],
      "metadata": {
        "colab": {
          "base_uri": "https://localhost:8080/"
        },
        "id": "nJVyMFBKL0Nl",
        "outputId": "c191a82a-e3cf-4d06-c2fd-3be48d0ae952"
      },
      "execution_count": 6,
      "outputs": [
        {
          "output_type": "stream",
          "name": "stderr",
          "text": [
            "/usr/local/lib/python3.7/dist-packages/sklearn/preprocessing/_label.py:98: DataConversionWarning: A column-vector y was passed when a 1d array was expected. Please change the shape of y to (n_samples, ), for example using ravel().\n",
            "  y = column_or_1d(y, warn=True)\n",
            "/usr/local/lib/python3.7/dist-packages/sklearn/preprocessing/_label.py:133: DataConversionWarning: A column-vector y was passed when a 1d array was expected. Please change the shape of y to (n_samples, ), for example using ravel().\n",
            "  y = column_or_1d(y, warn=True)\n"
          ]
        },
        {
          "output_type": "execute_result",
          "data": {
            "text/plain": [
              "XGBClassifier()"
            ]
          },
          "metadata": {},
          "execution_count": 6
        }
      ]
    },
    {
      "cell_type": "code",
      "source": [
        "#train accuracy\n",
        "xg_clf.score(X, y)"
      ],
      "metadata": {
        "colab": {
          "base_uri": "https://localhost:8080/"
        },
        "id": "m6ctaPvAL-7_",
        "outputId": "d80e8881-5eb2-45e1-fcf9-06eab0d190c7"
      },
      "execution_count": 7,
      "outputs": [
        {
          "output_type": "execute_result",
          "data": {
            "text/plain": [
              "0.8922013888888889"
            ]
          },
          "metadata": {},
          "execution_count": 7
        }
      ]
    },
    {
      "cell_type": "code",
      "source": [
        "yPred = xg_clf.predict(X)"
      ],
      "metadata": {
        "id": "M0Bkjd2EMUGT"
      },
      "execution_count": 8,
      "outputs": []
    },
    {
      "cell_type": "code",
      "source": [
        "#various performance scores\n",
        "acc = accuracy_score(y, yPred)\n",
        "print(\"The accuracy is {}\".format(acc))\n",
        "  \n",
        "prec = precision_score(y, yPred)\n",
        "print(\"The precision is {}\".format(prec))\n",
        "  \n",
        "rec = recall_score(y, yPred)\n",
        "print(\"The recall is {}\".format(rec))\n",
        "  \n",
        "f1 = f1_score(y, yPred)\n",
        "print(\"The F1-Score is {}\".format(f1))\n",
        "  \n",
        "MCC = matthews_corrcoef(y, yPred)\n",
        "print(\"The Matthews correlation coefficient is{}\".format(MCC))"
      ],
      "metadata": {
        "colab": {
          "base_uri": "https://localhost:8080/"
        },
        "id": "YbXhHSW9M44w",
        "outputId": "6b1fc2de-5e06-4e72-ab6d-08c7a0accd9c"
      },
      "execution_count": 9,
      "outputs": [
        {
          "output_type": "stream",
          "name": "stdout",
          "text": [
            "The accuracy is 0.8922013888888889\n",
            "The precision is 0.602527727624452\n",
            "The recall is 0.0876\n",
            "The F1-Score is 0.15296133404633802\n",
            "The Matthews correlation coefficient is0.20036695935642138\n"
          ]
        }
      ]
    },
    {
      "cell_type": "code",
      "source": [
        "#ks score function\n",
        "def ks_(data=None,target=None, prob=None):\n",
        "    data['target0'] = 1 - data[target]\n",
        "    data['bucket'] = pd.qcut(data[prob], 10)\n",
        "    grouped = data.groupby('bucket', as_index = False)\n",
        "    kstable = pd.DataFrame()\n",
        "    kstable['min_prob'] = grouped.min()[prob]\n",
        "    kstable['max_prob'] = grouped.max()[prob]\n",
        "    kstable['events']   = grouped.sum()[target]\n",
        "    kstable['nonevents'] = grouped.sum()['target0']\n",
        "    kstable = kstable.sort_values(by=\"min_prob\", ascending=False).reset_index(drop = True)\n",
        "    kstable['event_rate'] = (kstable.events / data[target].sum()).apply('{0:.2%}'.format)\n",
        "    kstable['nonevent_rate'] = (kstable.nonevents / data['target0'].sum()).apply('{0:.2%}'.format)\n",
        "    kstable['cum_eventrate']=(kstable.events / data[target].sum()).cumsum()\n",
        "    kstable['cum_noneventrate']=(kstable.nonevents / data['target0'].sum()).cumsum()\n",
        "    kstable['KS'] = np.round(kstable['cum_eventrate']-kstable['cum_noneventrate'], 3) * 100\n",
        "    #Formating\n",
        "    kstable['cum_eventrate']= kstable['cum_eventrate'].apply('{0:.2%}'.format)\n",
        "    kstable['cum_noneventrate']= kstable['cum_noneventrate'].apply('{0:.2%}'.format)\n",
        "    kstable.index = range(1,11)\n",
        "    kstable.index.rename('Decile', inplace=True)\n",
        "    pd.set_option('display.max_columns', 9)\n",
        "    print(kstable)\n",
        "    \n",
        "    return "
      ],
      "metadata": {
        "id": "O6P6LzZjNDhX"
      },
      "execution_count": 10,
      "outputs": []
    },
    {
      "cell_type": "code",
      "source": [
        "#creating data frame to check ks score for total training data\n",
        "ks=pd.DataFrame(xg_clf.predict_proba(X))\n",
        "del ks[0]"
      ],
      "metadata": {
        "id": "n8sMmPtYNNTU"
      },
      "execution_count": 11,
      "outputs": []
    },
    {
      "cell_type": "code",
      "source": [
        "ks['target']=y\n",
        "\n",
        "#ks table\n",
        "ks_(ks,'target',1)"
      ],
      "metadata": {
        "colab": {
          "base_uri": "https://localhost:8080/"
        },
        "id": "L_yh35cTScEY",
        "outputId": "7537bca5-297b-4632-a9cd-30c7606c403c"
      },
      "execution_count": 12,
      "outputs": [
        {
          "output_type": "stream",
          "name": "stdout",
          "text": [
            "        min_prob  max_prob   events  nonevents event_rate nonevent_rate  \\\n",
            "Decile                                                                    \n",
            "1       0.210570  0.864961  27386.0    44614.0     34.23%         6.97%   \n",
            "2       0.139759  0.210570  13435.0    58565.0     16.79%         9.15%   \n",
            "3       0.107841  0.139757   9250.0    62750.0     11.56%         9.80%   \n",
            "4       0.088646  0.107840   7147.0    64852.0      8.93%        10.13%   \n",
            "5       0.076510  0.088646   5683.0    66318.0      7.10%        10.36%   \n",
            "6       0.067599  0.076510   4819.0    67181.0      6.02%        10.50%   \n",
            "7       0.060164  0.067598   4077.0    67900.0      5.10%        10.61%   \n",
            "8       0.053285  0.060164   3451.0    68572.0      4.31%        10.71%   \n",
            "9       0.045724  0.053285   2765.0    69235.0      3.46%        10.82%   \n",
            "10      0.018012  0.045724   1987.0    70013.0      2.48%        10.94%   \n",
            "\n",
            "       cum_eventrate cum_noneventrate    KS  \n",
            "Decile                                       \n",
            "1             34.23%            6.97%  27.3  \n",
            "2             51.03%           16.12%  34.9  \n",
            "3             62.59%           25.93%  36.7  \n",
            "4             71.52%           36.06%  35.5  \n",
            "5             78.63%           46.42%  32.2  \n",
            "6             84.65%           56.92%  27.7  \n",
            "7             89.75%           67.53%  22.2  \n",
            "8             94.06%           78.24%  15.8  \n",
            "9             97.52%           89.06%   8.5  \n",
            "10           100.00%          100.00%   0.0  \n"
          ]
        }
      ]
    },
    {
      "cell_type": "code",
      "source": [
        "#creating data frame of cust ids with probabilities\n",
        "X_t= pd.read_csv('/content/drive/MyDrive/Colab Notebooks/X_t.csv')\n",
        "test_cust= pd.read_csv('/content/drive/MyDrive/Colab Notebooks/test_cust.csv')\n",
        "result_model = pd.DataFrame(xg_clf.predict_proba(X_t))\n",
        "result=pd.concat([test_cust['cust_id'],result_model[1] ], axis=1)\n",
        "result.rename(columns={1:'target'},inplace=True)"
      ],
      "metadata": {
        "id": "DY70G_HlN_-W"
      },
      "execution_count": 13,
      "outputs": []
    },
    {
      "cell_type": "code",
      "source": [
        "result"
      ],
      "metadata": {
        "colab": {
          "base_uri": "https://localhost:8080/",
          "height": 423
        },
        "id": "wMH7CkAWT-WI",
        "outputId": "0358af1e-8677-4a62-e798-ecfbb98d34ab"
      },
      "execution_count": 14,
      "outputs": [
        {
          "output_type": "execute_result",
          "data": {
            "text/html": [
              "\n",
              "  <div id=\"df-89352855-cb08-423b-b248-07152267bb51\">\n",
              "    <div class=\"colab-df-container\">\n",
              "      <div>\n",
              "<style scoped>\n",
              "    .dataframe tbody tr th:only-of-type {\n",
              "        vertical-align: middle;\n",
              "    }\n",
              "\n",
              "    .dataframe tbody tr th {\n",
              "        vertical-align: top;\n",
              "    }\n",
              "\n",
              "    .dataframe thead th {\n",
              "        text-align: right;\n",
              "    }\n",
              "</style>\n",
              "<table border=\"1\" class=\"dataframe\">\n",
              "  <thead>\n",
              "    <tr style=\"text-align: right;\">\n",
              "      <th></th>\n",
              "      <th>cust_id</th>\n",
              "      <th>target</th>\n",
              "    </tr>\n",
              "  </thead>\n",
              "  <tbody>\n",
              "    <tr>\n",
              "      <th>0</th>\n",
              "      <td>10146566</td>\n",
              "      <td>0.092584</td>\n",
              "    </tr>\n",
              "    <tr>\n",
              "      <th>1</th>\n",
              "      <td>10203613</td>\n",
              "      <td>0.065898</td>\n",
              "    </tr>\n",
              "    <tr>\n",
              "      <th>2</th>\n",
              "      <td>10322129</td>\n",
              "      <td>0.031745</td>\n",
              "    </tr>\n",
              "    <tr>\n",
              "      <th>3</th>\n",
              "      <td>10373212</td>\n",
              "      <td>0.062743</td>\n",
              "    </tr>\n",
              "    <tr>\n",
              "      <th>4</th>\n",
              "      <td>10487539</td>\n",
              "      <td>0.049760</td>\n",
              "    </tr>\n",
              "    <tr>\n",
              "      <th>...</th>\n",
              "      <td>...</td>\n",
              "      <td>...</td>\n",
              "    </tr>\n",
              "    <tr>\n",
              "      <th>179995</th>\n",
              "      <td>45739460</td>\n",
              "      <td>0.039629</td>\n",
              "    </tr>\n",
              "    <tr>\n",
              "      <th>179996</th>\n",
              "      <td>56006782</td>\n",
              "      <td>0.036098</td>\n",
              "    </tr>\n",
              "    <tr>\n",
              "      <th>179997</th>\n",
              "      <td>61138340</td>\n",
              "      <td>0.047180</td>\n",
              "    </tr>\n",
              "    <tr>\n",
              "      <th>179998</th>\n",
              "      <td>65715392</td>\n",
              "      <td>0.035206</td>\n",
              "    </tr>\n",
              "    <tr>\n",
              "      <th>179999</th>\n",
              "      <td>67960857</td>\n",
              "      <td>0.031324</td>\n",
              "    </tr>\n",
              "  </tbody>\n",
              "</table>\n",
              "<p>180000 rows × 2 columns</p>\n",
              "</div>\n",
              "      <button class=\"colab-df-convert\" onclick=\"convertToInteractive('df-89352855-cb08-423b-b248-07152267bb51')\"\n",
              "              title=\"Convert this dataframe to an interactive table.\"\n",
              "              style=\"display:none;\">\n",
              "        \n",
              "  <svg xmlns=\"http://www.w3.org/2000/svg\" height=\"24px\"viewBox=\"0 0 24 24\"\n",
              "       width=\"24px\">\n",
              "    <path d=\"M0 0h24v24H0V0z\" fill=\"none\"/>\n",
              "    <path d=\"M18.56 5.44l.94 2.06.94-2.06 2.06-.94-2.06-.94-.94-2.06-.94 2.06-2.06.94zm-11 1L8.5 8.5l.94-2.06 2.06-.94-2.06-.94L8.5 2.5l-.94 2.06-2.06.94zm10 10l.94 2.06.94-2.06 2.06-.94-2.06-.94-.94-2.06-.94 2.06-2.06.94z\"/><path d=\"M17.41 7.96l-1.37-1.37c-.4-.4-.92-.59-1.43-.59-.52 0-1.04.2-1.43.59L10.3 9.45l-7.72 7.72c-.78.78-.78 2.05 0 2.83L4 21.41c.39.39.9.59 1.41.59.51 0 1.02-.2 1.41-.59l7.78-7.78 2.81-2.81c.8-.78.8-2.07 0-2.86zM5.41 20L4 18.59l7.72-7.72 1.47 1.35L5.41 20z\"/>\n",
              "  </svg>\n",
              "      </button>\n",
              "      \n",
              "  <style>\n",
              "    .colab-df-container {\n",
              "      display:flex;\n",
              "      flex-wrap:wrap;\n",
              "      gap: 12px;\n",
              "    }\n",
              "\n",
              "    .colab-df-convert {\n",
              "      background-color: #E8F0FE;\n",
              "      border: none;\n",
              "      border-radius: 50%;\n",
              "      cursor: pointer;\n",
              "      display: none;\n",
              "      fill: #1967D2;\n",
              "      height: 32px;\n",
              "      padding: 0 0 0 0;\n",
              "      width: 32px;\n",
              "    }\n",
              "\n",
              "    .colab-df-convert:hover {\n",
              "      background-color: #E2EBFA;\n",
              "      box-shadow: 0px 1px 2px rgba(60, 64, 67, 0.3), 0px 1px 3px 1px rgba(60, 64, 67, 0.15);\n",
              "      fill: #174EA6;\n",
              "    }\n",
              "\n",
              "    [theme=dark] .colab-df-convert {\n",
              "      background-color: #3B4455;\n",
              "      fill: #D2E3FC;\n",
              "    }\n",
              "\n",
              "    [theme=dark] .colab-df-convert:hover {\n",
              "      background-color: #434B5C;\n",
              "      box-shadow: 0px 1px 3px 1px rgba(0, 0, 0, 0.15);\n",
              "      filter: drop-shadow(0px 1px 2px rgba(0, 0, 0, 0.3));\n",
              "      fill: #FFFFFF;\n",
              "    }\n",
              "  </style>\n",
              "\n",
              "      <script>\n",
              "        const buttonEl =\n",
              "          document.querySelector('#df-89352855-cb08-423b-b248-07152267bb51 button.colab-df-convert');\n",
              "        buttonEl.style.display =\n",
              "          google.colab.kernel.accessAllowed ? 'block' : 'none';\n",
              "\n",
              "        async function convertToInteractive(key) {\n",
              "          const element = document.querySelector('#df-89352855-cb08-423b-b248-07152267bb51');\n",
              "          const dataTable =\n",
              "            await google.colab.kernel.invokeFunction('convertToInteractive',\n",
              "                                                     [key], {});\n",
              "          if (!dataTable) return;\n",
              "\n",
              "          const docLinkHtml = 'Like what you see? Visit the ' +\n",
              "            '<a target=\"_blank\" href=https://colab.research.google.com/notebooks/data_table.ipynb>data table notebook</a>'\n",
              "            + ' to learn more about interactive tables.';\n",
              "          element.innerHTML = '';\n",
              "          dataTable['output_type'] = 'display_data';\n",
              "          await google.colab.output.renderOutput(dataTable, element);\n",
              "          const docLink = document.createElement('div');\n",
              "          docLink.innerHTML = docLinkHtml;\n",
              "          element.appendChild(docLink);\n",
              "        }\n",
              "      </script>\n",
              "    </div>\n",
              "  </div>\n",
              "  "
            ],
            "text/plain": [
              "         cust_id    target\n",
              "0       10146566  0.092584\n",
              "1       10203613  0.065898\n",
              "2       10322129  0.031745\n",
              "3       10373212  0.062743\n",
              "4       10487539  0.049760\n",
              "...          ...       ...\n",
              "179995  45739460  0.039629\n",
              "179996  56006782  0.036098\n",
              "179997  61138340  0.047180\n",
              "179998  65715392  0.035206\n",
              "179999  67960857  0.031324\n",
              "\n",
              "[180000 rows x 2 columns]"
            ]
          },
          "metadata": {},
          "execution_count": 14
        }
      ]
    },
    {
      "cell_type": "code",
      "source": [
        "#uploading results(probabilities)\n",
        "result.to_csv('/content/drive/MyDrive/Colab Notebooks/results.csv',index=False)"
      ],
      "metadata": {
        "id": "XmWMGB-EPFC1"
      },
      "execution_count": null,
      "outputs": []
    },
    {
      "cell_type": "code",
      "source": [
        ""
      ],
      "metadata": {
        "id": "mzhDyTG7WuMG"
      },
      "execution_count": null,
      "outputs": []
    }
  ]
}