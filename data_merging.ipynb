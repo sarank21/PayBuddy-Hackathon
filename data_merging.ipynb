{
  "nbformat": 4,
  "nbformat_minor": 0,
  "metadata": {
    "colab": {
      "name": "data_merging.ipynb",
      "provenance": [],
      "collapsed_sections": []
    },
    "kernelspec": {
      "name": "python3",
      "display_name": "Python 3"
    },
    "language_info": {
      "name": "python"
    }
  },
  "cells": [
    {
      "cell_type": "code",
      "metadata": {
        "id": "QbTNp2_nDtj0",
        "colab": {
          "base_uri": "https://localhost:8080/"
        },
        "outputId": "bc1cc9c8-5f02-4704-a5c9-aae56f7769f1"
      },
      "source": [
        "from google.colab import drive\n",
        "drive.mount('/content/drive')"
      ],
      "execution_count": null,
      "outputs": [
        {
          "output_type": "stream",
          "name": "stdout",
          "text": [
            "Mounted at /content/drive\n"
          ]
        }
      ]
    },
    {
      "cell_type": "code",
      "metadata": {
        "id": "Ce4lMqDRHJNb"
      },
      "source": [
        "import pandas as pd"
      ],
      "execution_count": null,
      "outputs": []
    },
    {
      "cell_type": "code",
      "source": [
        "#reading all data files"
      ],
      "metadata": {
        "id": "8XvAa4uOWxyQ"
      },
      "execution_count": null,
      "outputs": []
    },
    {
      "cell_type": "code",
      "source": [
        "df1=pd.read_csv('/content/drive/MyDrive/Colab Notebooks/fraud_update_features.csv')"
      ],
      "metadata": {
        "id": "_1_Tn0RWeEqE"
      },
      "execution_count": null,
      "outputs": []
    },
    {
      "cell_type": "code",
      "metadata": {
        "id": "VgCC75muTwkw"
      },
      "source": [
        "df2= pd.read_csv('/content/drive/MyDrive/Colab Notebooks/new_acct_fi.csv')"
      ],
      "execution_count": null,
      "outputs": []
    },
    {
      "cell_type": "code",
      "metadata": {
        "id": "qP4Cou2WUGul"
      },
      "source": [
        "df3 = pd.read_csv('/content/drive/MyDrive/Colab Notebooks/new_acct_memo_rcv.csv')"
      ],
      "execution_count": null,
      "outputs": []
    },
    {
      "cell_type": "code",
      "metadata": {
        "id": "CuUoWJoKUNmd"
      },
      "source": [
        "df4 = pd.read_csv('/content/drive/MyDrive/Colab Notebooks/new_acct_memo_sent.csv')"
      ],
      "execution_count": null,
      "outputs": []
    },
    {
      "cell_type": "code",
      "metadata": {
        "id": "tt9vQlz8UVmB"
      },
      "source": [
        "df5 = pd.read_csv('/content/drive/MyDrive/Colab Notebooks/new_acct_receiver.csv')"
      ],
      "execution_count": null,
      "outputs": []
    },
    {
      "cell_type": "code",
      "metadata": {
        "id": "frNqpOGtUhht"
      },
      "source": [
        "df6 = pd.read_csv('/content/drive/MyDrive/Colab Notebooks/new_acct_sender.csv')"
      ],
      "execution_count": null,
      "outputs": []
    },
    {
      "cell_type": "code",
      "metadata": {
        "id": "6JRvRg3oUpr7"
      },
      "source": [
        "df7 = pd.read_csv('/content/drive/MyDrive/Colab Notebooks/payment_cashout_fail_df.csv')"
      ],
      "execution_count": null,
      "outputs": []
    },
    {
      "cell_type": "code",
      "metadata": {
        "id": "xp8UQltVUyZd"
      },
      "source": [
        "train_ids = pd.read_csv('/content/drive/MyDrive/Colab Notebooks/train_df.csv') #train cust ids with target variable"
      ],
      "execution_count": null,
      "outputs": []
    },
    {
      "cell_type": "code",
      "metadata": {
        "id": "L_GUWsnnU_KM"
      },
      "source": [
        "test_ids = pd.read_csv('/content/drive/MyDrive/Colab Notebooks/test_cust_id.csv') #test cust ids"
      ],
      "execution_count": null,
      "outputs": []
    },
    {
      "cell_type": "code",
      "source": [
        ""
      ],
      "metadata": {
        "id": "ROBfL8_vajor"
      },
      "execution_count": null,
      "outputs": []
    },
    {
      "cell_type": "code",
      "source": [
        "#deleting unwanted columns and features"
      ],
      "metadata": {
        "id": "bXbUEWlvXFVg"
      },
      "execution_count": null,
      "outputs": []
    },
    {
      "cell_type": "code",
      "metadata": {
        "id": "iEtcbjd4VGjP"
      },
      "source": [
        "del df1['Unnamed: 0']\n",
        "del df2['Unnamed: 0']\n",
        "del df3['Unnamed: 0']\n",
        "del df4['Unnamed: 0']\n",
        "del df5['Unnamed: 0']\n",
        "del df6['Unnamed: 0']\n",
        "del df7['Unnamed: 0']"
      ],
      "execution_count": null,
      "outputs": []
    },
    {
      "cell_type": "code",
      "source": [
        "df1 = df1.drop(['fraud_update_features_15','fraud_update_features_4','fraud_update_features_5','fraud_update_features_16'], axis=1)"
      ],
      "metadata": {
        "id": "At9w6i75e2gz"
      },
      "execution_count": null,
      "outputs": []
    },
    {
      "cell_type": "code",
      "source": [
        "for col in df1.columns:\n",
        "    if len(df1[col].unique()) == 1:\n",
        "        df1.drop(col,inplace=True,axis=1)"
      ],
      "metadata": {
        "id": "_rGy6yplhU82"
      },
      "execution_count": null,
      "outputs": []
    },
    {
      "cell_type": "code",
      "source": [
        "for col in df2.columns:\n",
        "    if len(df2[col].unique()) == 1:\n",
        "        df2.drop(col,inplace=True,axis=1)"
      ],
      "metadata": {
        "id": "NrnP3LISobia"
      },
      "execution_count": null,
      "outputs": []
    },
    {
      "cell_type": "code",
      "source": [
        "for col in df3.columns:\n",
        "    if len(df3[col].unique()) == 1:\n",
        "        df3.drop(col,inplace=True,axis=1)"
      ],
      "metadata": {
        "id": "Nw6dj2oAobRN"
      },
      "execution_count": null,
      "outputs": []
    },
    {
      "cell_type": "code",
      "source": [
        "for col in df4.columns:\n",
        "    if len(df4[col].unique()) == 1:\n",
        "        df4.drop(col,inplace=True,axis=1)"
      ],
      "metadata": {
        "id": "Gt3CQRUYobAY"
      },
      "execution_count": null,
      "outputs": []
    },
    {
      "cell_type": "code",
      "source": [
        "for col in df5.columns:\n",
        "    if len(df5[col].unique()) == 1:\n",
        "        df5.drop(col,inplace=True,axis=1)"
      ],
      "metadata": {
        "id": "xL-zl9gxhTLc"
      },
      "execution_count": null,
      "outputs": []
    },
    {
      "cell_type": "code",
      "source": [
        "for col in df6.columns:\n",
        "    if len(df6[col].unique()) == 1:\n",
        "        df6.drop(col,inplace=True,axis=1)"
      ],
      "metadata": {
        "id": "bogj2frahRyp"
      },
      "execution_count": null,
      "outputs": []
    },
    {
      "cell_type": "code",
      "source": [
        "for col in df7.columns:\n",
        "    if len(df7[col].unique()) == 1:\n",
        "        df7.drop(col,inplace=True,axis=1)"
      ],
      "metadata": {
        "id": "RGXx5_gqpZ3N"
      },
      "execution_count": null,
      "outputs": []
    },
    {
      "cell_type": "code",
      "source": [
        ""
      ],
      "metadata": {
        "id": "sYP3FrQ0BP6Q"
      },
      "execution_count": null,
      "outputs": []
    },
    {
      "cell_type": "code",
      "source": [
        ""
      ],
      "metadata": {
        "id": "HUNvKm98XQuA"
      },
      "execution_count": null,
      "outputs": []
    },
    {
      "cell_type": "code",
      "source": [
        "#data merging"
      ],
      "metadata": {
        "id": "bu1LnwhoXRIr"
      },
      "execution_count": null,
      "outputs": []
    },
    {
      "cell_type": "code",
      "metadata": {
        "id": "kRiL9XD6V2Yt"
      },
      "source": [
        "df_merged1 = pd.DataFrame.merge(df1, df2, on='cust_id', how=\"outer\")"
      ],
      "execution_count": null,
      "outputs": []
    },
    {
      "cell_type": "code",
      "metadata": {
        "id": "UPTVqbjxWg0O"
      },
      "source": [
        "df_merged2 = pd.DataFrame.merge(df3, df4, on='cust_id', how=\"outer\")"
      ],
      "execution_count": null,
      "outputs": []
    },
    {
      "cell_type": "code",
      "metadata": {
        "id": "MvqnTktyWhTH"
      },
      "source": [
        "df_merged3=pd.DataFrame.merge(df5, df6, on='cust_id', how=\"outer\")"
      ],
      "execution_count": null,
      "outputs": []
    },
    {
      "cell_type": "code",
      "metadata": {
        "id": "4PiKHUZeWkHq"
      },
      "source": [
        "df_merged12= pd.DataFrame.merge(df_merged1, df_merged2, on='cust_id', how=\"outer\")"
      ],
      "execution_count": null,
      "outputs": []
    },
    {
      "cell_type": "code",
      "metadata": {
        "id": "JBJS2t4JWqZ9"
      },
      "source": [
        "df_merged34=pd.DataFrame.merge(df_merged3, df7, on='cust_id', how=\"outer\")"
      ],
      "execution_count": null,
      "outputs": []
    },
    {
      "cell_type": "code",
      "metadata": {
        "id": "hszmZUgTW0KC"
      },
      "source": [
        "del df_merged1\n",
        "del df_merged2\n",
        "del df_merged3"
      ],
      "execution_count": null,
      "outputs": []
    },
    {
      "cell_type": "code",
      "metadata": {
        "id": "JIc409lwW6hy"
      },
      "source": [
        "df_f = pd.DataFrame.merge(df_merged12, df_merged34, on='cust_id', how=\"outer\") #final complete data set"
      ],
      "execution_count": null,
      "outputs": []
    },
    {
      "cell_type": "code",
      "metadata": {
        "id": "BVAlxmlSZu7t"
      },
      "source": [
        "del df_merged34\n",
        "del df_merged12"
      ],
      "execution_count": null,
      "outputs": []
    },
    {
      "cell_type": "code",
      "source": [
        "df_f.shape #final complete data set shape"
      ],
      "metadata": {
        "colab": {
          "base_uri": "https://localhost:8080/"
        },
        "id": "OW35ZqlVnTnJ",
        "outputId": "81efb4c5-bfe9-42ac-b4a4-6b51c27f2f16"
      },
      "execution_count": null,
      "outputs": [
        {
          "output_type": "execute_result",
          "data": {
            "text/plain": [
              "(900000, 380)"
            ]
          },
          "metadata": {},
          "execution_count": 29
        }
      ]
    },
    {
      "cell_type": "code",
      "source": [
        "del df1\n",
        "del df2\n",
        "del df3\n",
        "del df4\n",
        "del df5\n",
        "del df6\n",
        "del df7"
      ],
      "metadata": {
        "id": "xrY5UprBGDqC"
      },
      "execution_count": null,
      "outputs": []
    },
    {
      "cell_type": "code",
      "source": [
        "df_train = pd.DataFrame.merge(df_f, train_ids, on='cust_id', how=\"inner\") # training data set with predictors(features) and target"
      ],
      "metadata": {
        "id": "gMAeN8qbFfCF"
      },
      "execution_count": null,
      "outputs": []
    },
    {
      "cell_type": "code",
      "source": [
        "del df_train['cust_id']"
      ],
      "metadata": {
        "id": "_ZgmPwtaHCDJ"
      },
      "execution_count": null,
      "outputs": []
    },
    {
      "cell_type": "code",
      "source": [
        "df_test = pd.DataFrame.merge(df_f, test_ids, on='cust_id', how=\"inner\") # test data set with predictors(features)"
      ],
      "metadata": {
        "id": "RkR3JyX8npVo"
      },
      "execution_count": null,
      "outputs": []
    },
    {
      "cell_type": "code",
      "source": [
        "y = df_train['target']   # target y of the training data set"
      ],
      "metadata": {
        "id": "euOFzZr2cjkQ"
      },
      "execution_count": null,
      "outputs": []
    },
    {
      "cell_type": "code",
      "source": [
        "X = df_train[list(df_train.columns)[:-1]] # training X"
      ],
      "metadata": {
        "id": "oqN8agUmeMh3"
      },
      "execution_count": null,
      "outputs": []
    },
    {
      "cell_type": "code",
      "source": [
        "X_t = df_test[list(df_test.columns)]  # test X for which we need to find probabilities\n"
      ],
      "metadata": {
        "id": "yDR6bKI7tD9v"
      },
      "execution_count": null,
      "outputs": []
    },
    {
      "cell_type": "code",
      "source": [
        "test_cust= df_test['cust_id'] # test cust ids for which we need to find probabilities"
      ],
      "metadata": {
        "id": "b_Kn6r2qDtgk"
      },
      "execution_count": null,
      "outputs": []
    },
    {
      "cell_type": "code",
      "source": [
        "X_t.drop('cust_id',inplace=True,axis=1)"
      ],
      "metadata": {
        "id": "wWMNy5W3Eqmh"
      },
      "execution_count": null,
      "outputs": []
    },
    {
      "cell_type": "code",
      "source": [
        ""
      ],
      "metadata": {
        "id": "Euw__cZNYh_V"
      },
      "execution_count": null,
      "outputs": []
    },
    {
      "cell_type": "code",
      "source": [
        ""
      ],
      "metadata": {
        "id": "v1ib4_-FYhxl"
      },
      "execution_count": null,
      "outputs": []
    },
    {
      "cell_type": "code",
      "source": [
        "# uploading the new final data to files"
      ],
      "metadata": {
        "id": "68AeogCpYhc0"
      },
      "execution_count": null,
      "outputs": []
    },
    {
      "cell_type": "code",
      "source": [
        "X.to_csv('/content/drive/MyDrive/Colab Notebooks/X.csv',index=False) # train X\n",
        "X_t.to_csv('/content/drive/MyDrive/Colab Notebooks/X_t.csv',index=False) # test X for which we need to find probabilities\n",
        "y.to_csv('/content/drive/MyDrive/Colab Notebooks/y.csv',index=False) # train y \n",
        "test_cust.to_csv('/content/drive/MyDrive/Colab Notebooks/test_cust.csv',index=False) # cust ids of test data for which we need to find probabilities"
      ],
      "metadata": {
        "id": "FeLmPZMLE6nn"
      },
      "execution_count": null,
      "outputs": []
    }
  ]
}